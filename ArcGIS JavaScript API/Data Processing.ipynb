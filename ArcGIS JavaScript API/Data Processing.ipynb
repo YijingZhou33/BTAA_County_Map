{
 "cells": [
  {
   "cell_type": "markdown",
   "metadata": {},
   "source": [
    "# BTAA Geoportal County Map Data Processing\n",
    "\n",
    "In order to show what counties BTAA geoportal is pulling data from in the map, we need to keep track of the counties with open geospatial data records and update them plus their search links in the map. This Jupyter Notebook is meant to automate the process using arcpy and ArcGIS API for Python. \n",
    "\n",
    "The process contains two main parts:\n",
    "- Check if there has newly added counties and add them to Active feature class\n",
    "- Upload the geodatabase containing BTAA active counties to AGOL \n",
    "\n",
    "Here is the data structure:\n",
    "- One geodatabase **BTAA.gdb** with two feature classes: **BTAA_State** and **BTAA_County** - *Remain untouched*\n",
    "- One csv file **Geoportal.csv** storing the FIPs and search links of all active counties - *Update this!*\n",
    "- One empty folder **BTAA_Active**"
   ]
  },
  {
   "cell_type": "code",
   "execution_count": 1,
   "metadata": {},
   "outputs": [],
   "source": [
    "################### Manual items to change! ###################\n",
    "## set the date updating the counties\n",
    "ActionDate = '20201130'\n",
    "\n",
    "## names of the main directory containing Geoportal.csv and active folder\n",
    "## Windows:\n",
    "root = r\"C:\\Users\\Zhouy\\Desktop\\BTAA_County Map\\ArcGIS JavaScript API\\data\"\n",
    "## MAC or Linux:\n",
    "## root = \"C:\\Users\\Zhouy\\Desktop\\BTAA_County Map\\ArcGIS JavaScript API\\data\""
   ]
  },
  {
   "cell_type": "markdown",
   "metadata": {},
   "source": [
    "## Step 1: Check if there has newly added counties and add them to Active feature class"
   ]
  },
  {
   "cell_type": "markdown",
   "metadata": {},
   "source": [
    "### 1.1 Initialization"
   ]
  },
  {
   "cell_type": "code",
   "execution_count": 2,
   "metadata": {},
   "outputs": [],
   "source": [
    "# Import modules\n",
    "import arcpy\n",
    "import os\n",
    "import shutil"
   ]
  },
  {
   "cell_type": "code",
   "execution_count": 3,
   "metadata": {},
   "outputs": [],
   "source": [
    "# Set current workspace\n",
    "# Remeber to change it to your own\n",
    "rawdata = root + \"\\\\BTAA.gdb\"\n",
    "activeGDB = root + \"\\\\Activegdb\""
   ]
  },
  {
   "cell_type": "markdown",
   "metadata": {},
   "source": [
    "### 1.2 Build up the working geodatabase: BTAA_Active.gdb\n",
    "This step is to import feature classes and csv file to the new geodatabse"
   ]
  },
  {
   "cell_type": "code",
   "execution_count": 4,
   "metadata": {},
   "outputs": [],
   "source": [
    "# Create the output workspace - BTAA_Active_ActionDate.gdb\n",
    "# Execute CreateFileGDB\n",
    "arcpy.CreateFileGDB_management(activeGDB, \"BTAA_Active_%s.gdb\" % (ActionDate))\n",
    "outputspace = activeGDB + \"\\\\BTAA_Active_%s.gdb\" % (ActionDate)"
   ]
  },
  {
   "cell_type": "code",
   "execution_count": 5,
   "metadata": {
    "scrolled": true
   },
   "outputs": [
    {
     "data": {
      "text/html": [
       "<h2>Output</h2>C:\\Users\\Zhouy\\Desktop\\BTAA_County Map\\ArcGIS JavaScript API\\data\\Activegdb\\BTAA_Active_20201130.gdb<h2>Messages</h2>Start Time: Monday, November 30, 2020 7:02:09 PM<br/>Converted C:\\Users\\Zhouy\\Desktop\\BTAA_County Map\\ArcGIS JavaScript API\\data\\Geoportal.csv to C:\\Users\\Zhouy\\Desktop\\BTAA_County Map\\ArcGIS JavaScript API\\data\\Activegdb\\BTAA_Active_20201130.gdb\\Geoportal successfully.<br/>Succeeded at Monday, November 30, 2020 7:02:11 PM (Elapsed Time: 2.13 seconds)<br/><style>.rendered_html td, .rendered_html th {text-align: left;}.rendered_html tbody {border: 1px solid black;}</style>"
      ],
      "text/plain": [
       "<Result 'C:\\\\Users\\\\Zhouy\\\\Desktop\\\\BTAA_County Map\\\\ArcGIS JavaScript API\\\\data\\\\Activegdb\\\\BTAA_Active_20201130.gdb'>"
      ]
     },
     "execution_count": 5,
     "metadata": {},
     "output_type": "execute_result"
    }
   ],
   "source": [
    "# Convert Geoportal.csv as table to geodatabase\n",
    "inputTable = os.path.join(root, \"Geoportal.csv\")\n",
    "arcpy.TableToGeodatabase_conversion(inputTable, outputspace)"
   ]
  },
  {
   "cell_type": "code",
   "execution_count": 6,
   "metadata": {},
   "outputs": [
    {
     "data": {
      "text/html": [
       "<h2>Output</h2>C:\\Users\\Zhouy\\Desktop\\BTAA_County Map\\ArcGIS JavaScript API\\data\\Activegdb\\BTAA_Active_20201130.gdb<h2>Messages</h2>Start Time: Monday, November 30, 2020 7:02:12 PM<br/>C:\\Users\\Zhouy\\Desktop\\BTAA_County Map\\ArcGIS JavaScript API\\data\\BTAA.gdb\\BTAA_County Successfully converted:  C:\\Users\\Zhouy\\Desktop\\BTAA_County Map\\ArcGIS JavaScript API\\data\\Activegdb\\BTAA_Active_20201130.gdb\\BTAA_County<br/>Succeeded at Monday, November 30, 2020 7:02:14 PM (Elapsed Time: 2.04 seconds)<br/><style>.rendered_html td, .rendered_html th {text-align: left;}.rendered_html tbody {border: 1px solid black;}</style>"
      ],
      "text/plain": [
       "<Result 'C:\\\\Users\\\\Zhouy\\\\Desktop\\\\BTAA_County Map\\\\ArcGIS JavaScript API\\\\data\\\\Activegdb\\\\BTAA_Active_20201130.gdb'>"
      ]
     },
     "execution_count": 6,
     "metadata": {},
     "output_type": "execute_result"
    }
   ],
   "source": [
    "# Convert feature classes to geodatabase\n",
    "# in_features = [os.path.join(rawdata, \"BTAA_County\"), os.path.join(rawdata, \"BTAA_State\")]\n",
    "in_features = os.path.join(rawdata, \"BTAA_County\")\n",
    "# Execute FeatureClassToGeodatabase\n",
    "arcpy.FeatureClassToGeodatabase_conversion(in_features, outputspace)"
   ]
  },
  {
   "cell_type": "markdown",
   "metadata": {},
   "source": [
    "### 1.3 Join table to county feature class\n",
    "This step is to filter counties with open data geoportals and copy them to a new feature class *BTAA_Active*"
   ]
  },
  {
   "cell_type": "code",
   "execution_count": 7,
   "metadata": {},
   "outputs": [],
   "source": [
    "# Set working environment as BTAA_Active.gdb\n",
    "arcpy.env.workspace = activeGDB + \"\\\\BTAA_Active_%s.gdb\" % (ActionDate)"
   ]
  },
  {
   "cell_type": "code",
   "execution_count": 8,
   "metadata": {},
   "outputs": [],
   "source": [
    "Actionshp = root + \"\\\\BTAA_Active\\\\BTAA_Active_%s\" % (ActionDate)\n",
    "if not os.path.exists(Actionshp):\n",
    "    os.makedirs(Actionshp)"
   ]
  },
  {
   "cell_type": "code",
   "execution_count": 9,
   "metadata": {},
   "outputs": [
    {
     "data": {
      "text/html": [
       "<h2>Output</h2>C:\\Users\\Zhouy\\Desktop\\BTAA_County Map\\ArcGIS JavaScript API\\data\\Activegdb\\BTAA_Active_20201130.gdb\\Geoportal<h2>Messages</h2>Start Time: Monday, November 30, 2020 7:02:15 PM<br/>Succeeded at Monday, November 30, 2020 7:02:15 PM (Elapsed Time: 0.15 seconds)<br/><style>.rendered_html td, .rendered_html th {text-align: left;}.rendered_html tbody {border: 1px solid black;}</style>"
      ],
      "text/plain": [
       "<Result 'C:\\\\Users\\\\Zhouy\\\\Desktop\\\\BTAA_County Map\\\\ArcGIS JavaScript API\\\\data\\\\Activegdb\\\\BTAA_Active_20201130.gdb\\\\Geoportal'>"
      ]
     },
     "execution_count": 9,
     "metadata": {},
     "output_type": "execute_result"
    }
   ],
   "source": [
    "# Add a new field to table (duplicate the FIPS field but change the data type as text)\n",
    "inTable = \"Geoportal\"\n",
    "fieldName = \"FIPS_new\"\n",
    "fieldLength = 5\n",
    "expression = \"!FIPS!\"\n",
    " \n",
    "# Execute AddField \n",
    "arcpy.AddField_management(inTable, fieldName, \"TEXT\", field_length = fieldLength)\n",
    "\n",
    "# Execute CalculateField \n",
    "arcpy.CalculateField_management(inTable, fieldName, expression, \"PYTHON3\")"
   ]
  },
  {
   "cell_type": "code",
   "execution_count": 10,
   "metadata": {},
   "outputs": [
    {
     "data": {
      "text/html": [
       "<h2>Output</h2>C:\\Users\\Zhouy\\Desktop\\BTAA_County Map\\ArcGIS JavaScript API\\data\\Activegdb\\BTAA_Active_20201130.gdb\\BTAA_Active<h2>Messages</h2>Start Time: Monday, November 30, 2020 7:02:17 PM<br/>Succeeded at Monday, November 30, 2020 7:02:18 PM (Elapsed Time: 1.11 seconds)<br/><style>.rendered_html td, .rendered_html th {text-align: left;}.rendered_html tbody {border: 1px solid black;}</style>"
      ],
      "text/plain": [
       "<Result 'C:\\\\Users\\\\Zhouy\\\\Desktop\\\\BTAA_County Map\\\\ArcGIS JavaScript API\\\\data\\\\Activegdb\\\\BTAA_Active_20201130.gdb\\\\BTAA_Active'>"
      ]
     },
     "execution_count": 10,
     "metadata": {},
     "output_type": "execute_result"
    }
   ],
   "source": [
    "# Join table to BTAA counties based on FIP and only keep the common fields\n",
    "inFeatures = \"BTAA_County\"\n",
    "joinTable = \"Geoportal\"\n",
    "inputJoinField = \"FIPS\"\n",
    "outputJoinField = \"FIPS_new\"\n",
    "joinType = \"KEEP_COMMON\"\n",
    "outFeature = \"BTAA_Active\"\n",
    "\n",
    "# Execute AddJoin\n",
    "BTAA_joined_table = arcpy.AddJoin_management(inFeatures, inputJoinField, joinTable, \n",
    "                                            outputJoinField, joinType)\n",
    "\n",
    "# Copy the layer to a new permanent feature class - BTAA_Active\n",
    "arcpy.CopyFeatures_management(BTAA_joined_table, outFeature)"
   ]
  },
  {
   "cell_type": "code",
   "execution_count": 11,
   "metadata": {
    "scrolled": true
   },
   "outputs": [
    {
     "data": {
      "text/html": [
       "<h2>Output</h2>C:\\Users\\Zhouy\\Desktop\\BTAA_County Map\\ArcGIS JavaScript API\\data\\BTAA_Active\\BTAA_Active_20201130<h2>Messages</h2>Start Time: Monday, November 30, 2020 7:02:18 PM<br/>C:\\Users\\Zhouy\\Desktop\\BTAA_County Map\\ArcGIS JavaScript API\\data\\Activegdb\\BTAA_Active_20201130.gdb\\BTAA_Active Successfully converted:  C:\\Users\\Zhouy\\Desktop\\BTAA_County Map\\ArcGIS JavaScript API\\data\\BTAA_Active\\BTAA_Active_20201130\\BTAA_Active.shp<br/>Succeeded at Monday, November 30, 2020 7:02:19 PM (Elapsed Time: 1.14 seconds)<br/><style>.rendered_html td, .rendered_html th {text-align: left;}.rendered_html tbody {border: 1px solid black;}</style>"
      ],
      "text/plain": [
       "<Result 'C:\\\\Users\\\\Zhouy\\\\Desktop\\\\BTAA_County Map\\\\ArcGIS JavaScript API\\\\data\\\\BTAA_Active\\\\BTAA_Active_20201130'>"
      ]
     },
     "execution_count": 11,
     "metadata": {},
     "output_type": "execute_result"
    }
   ],
   "source": [
    "# Convert feature class to shapefile for further upload\n",
    "# arcpy.FeatureClassToShapefile_conversion(\"BTAA_State\", os.path.join(root, \"BTAA_State\"))\n",
    "arcpy.FeatureClassToShapefile_conversion(\"BTAA_Active\", Actionshp)"
   ]
  },
  {
   "cell_type": "markdown",
   "metadata": {},
   "source": [
    "## Step 2: Load Feature Classes to ArcGIS Online"
   ]
  },
  {
   "cell_type": "markdown",
   "metadata": {},
   "source": [
    "### 2.1 Initialization"
   ]
  },
  {
   "cell_type": "code",
   "execution_count": 12,
   "metadata": {},
   "outputs": [],
   "source": [
    "# Import GIS module hosted by AGOL\n",
    "from arcgis.gis import GIS"
   ]
  },
  {
   "cell_type": "code",
   "execution_count": 13,
   "metadata": {},
   "outputs": [],
   "source": [
    "# Create a GIS object\n",
    "gis = GIS(\"Pro\")"
   ]
  },
  {
   "cell_type": "markdown",
   "metadata": {},
   "source": [
    "### 2.2 Publish the feature class as a web layer"
   ]
  },
  {
   "cell_type": "code",
   "execution_count": 14,
   "metadata": {
    "scrolled": true
   },
   "outputs": [
    {
     "data": {
      "text/html": [
       "<div class=\"item_container\" style=\"height: auto; overflow: hidden; border: 1px solid #cfcfcf; border-radius: 2px; background: #f6fafa; line-height: 1.21429em; padding: 10px;\">\n",
       "                    <div class=\"item_left\" style=\"width: 210px; float: left;\">\n",
       "                       <a href='https://www.arcgis.com//home/item.html?id=d570c37116e34791a6a169c12678c9d7' target='_blank'>\n",
       "                        <img src='http://static.arcgis.com/images/desktopapp.png' class=\"itemThumbnail\">\n",
       "                       </a>\n",
       "                    </div>\n",
       "\n",
       "                    <div class=\"item_right\"     style=\"float: none; width: auto; overflow: hidden;\">\n",
       "                        <a href='https://www.arcgis.com//home/item.html?id=d570c37116e34791a6a169c12678c9d7' target='_blank'><b>BTAA_Active_WI</b>\n",
       "                        </a>\n",
       "                        <br/><img src='https://www.arcgis.com//home/js/jsapi/esri/css/images/item_type_icons/featureshosted16.png' style=\"vertical-align:middle;\">Feature Layer Collection by zhou1439_UMN\n",
       "                        <br/>Last Modified: November 30, 2020\n",
       "                        <br/>0 comments, 0 views\n",
       "                    </div>\n",
       "                </div>\n",
       "                "
      ],
      "text/plain": [
       "<Item title:\"BTAA_Active_WI\" type:Feature Layer Collection owner:zhou1439_UMN>"
      ]
     },
     "execution_count": 14,
     "metadata": {},
     "output_type": "execute_result"
    }
   ],
   "source": [
    "# Specify the properties file in a dictionary\n",
    "active_properties = {\"type\":\"Shapefile\", \"title\":\"BTAA_Active_WI\", \"tags\":\"BTAA\"}\n",
    "# Note that the uploaded item needs to be zipped!\n",
    "unzipped_file = root +\"\\\\BTAA_Active\\\\BTAA_Active_%s\" % (ActionDate)\n",
    "shutil.make_archive(unzipped_file, 'zip', unzipped_file)\n",
    "data_file_location = root + \"\\\\BTAA_Active\\\\BTAA_Active_%s.zip\" % (ActionDate)\n",
    "# Add the content to AGOL\n",
    "active_shp = gis.content.add(active_properties, data = data_file_location)\n",
    "# Publish the file\n",
    "active_feature_layer_item = active_shp.publish()\n",
    "\n",
    "active_feature_layer_item"
   ]
  },
  {
   "cell_type": "code",
   "execution_count": 15,
   "metadata": {
    "scrolled": true
   },
   "outputs": [],
   "source": [
    "# state_properties = {\"type\":\"Shapefile\", \"title\":\"BTAA_State\", \"tags\":\"BTAA\"}\n",
    "# data_file_location = root + \"\\\\BTAA_State\\\\BTAA_State.zip\"\n",
    "# state_shp = gis.content.add(state_properties, data = data_file_location)\n",
    "# state_feature_layer_item = state_shp.publish()\n",
    "\n",
    "# state_feature_layer_item"
   ]
  },
  {
   "cell_type": "markdown",
   "metadata": {},
   "source": [
    "### 2.3 Search AGOL to find the content published before"
   ]
  },
  {
   "cell_type": "markdown",
   "metadata": {},
   "source": [
    "> Remeber to copy and paste the itemID of **BTAA_Active** to ***main.js***. That's how we display the latest county data. "
   ]
  },
  {
   "cell_type": "code",
   "execution_count": 16,
   "metadata": {},
   "outputs": [
    {
     "data": {
      "text/plain": [
       "{'results': [{'itemId': 'd570c37116e34791a6a169c12678c9d7',\n",
       "   'success': True,\n",
       "   'notSharedWith': []}]}"
      ]
     },
     "execution_count": 16,
     "metadata": {},
     "output_type": "execute_result"
    }
   ],
   "source": [
    "# Access the dataset published before \n",
    "search_active = gis.content.search(query='title: \"BTAA_Active_WI\" AND type: \"Feature Service\"')\n",
    "# Retrieve the feature layer collection item from the list of results\n",
    "active_feature_layer_item = search_active[0]\n",
    "# Update the sharing permissions of the layer so that it's available to everyone\n",
    "active_feature_layer_item.share(everyone=True)"
   ]
  },
  {
   "cell_type": "code",
   "execution_count": 17,
   "metadata": {},
   "outputs": [],
   "source": [
    "# search_state = gis.content.search(query='title: \"BTAA_State\" AND type: \"Feature Service\"')\n",
    "# state_feature_layer_item = search_state[0]\n",
    "# state_feature_layer_item.share(everyone=True)"
   ]
  },
  {
   "cell_type": "code",
   "execution_count": null,
   "metadata": {},
   "outputs": [],
   "source": []
  }
 ],
 "metadata": {
  "kernelspec": {
   "display_name": "Python 3",
   "language": "python",
   "name": "python3"
  },
  "language_info": {
   "codemirror_mode": {
    "name": "ipython",
    "version": 3
   },
   "file_extension": ".py",
   "mimetype": "text/x-python",
   "name": "python",
   "nbconvert_exporter": "python",
   "pygments_lexer": "ipython3",
   "version": "3.6.10"
  }
 },
 "nbformat": 4,
 "nbformat_minor": 2
}
